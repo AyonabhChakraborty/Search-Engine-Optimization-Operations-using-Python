{
  "nbformat": 4,
  "nbformat_minor": 0,
  "metadata": {
    "colab": {
      "provenance": []
    },
    "kernelspec": {
      "name": "python3",
      "display_name": "Python 3"
    },
    "language_info": {
      "name": "python"
    }
  },
  "cells": [
    {
      "cell_type": "code",
      "execution_count": null,
      "metadata": {
        "colab": {
          "base_uri": "https://localhost:8080/"
        },
        "id": "Jdi0cKfziZ_Y",
        "outputId": "39157622-c462-4fa6-aceb-40b195dc4445"
      },
      "outputs": [
        {
          "output_type": "stream",
          "name": "stdout",
          "text": [
            "Keywords for sentence 1 : ['People data', 'capabilities', 'the flow', 'work', 'data', 'systems', 'work', 'collaboration', 'This', 'companies', 'notice', 'action', 'plans', 'Work Tech']\n",
            "Keywords for sentence 2 : ['big tech layoffs', 'the headlines', 'a large number', 'companies', 'Daniel Chait', 'CEO', 'co', '-', 'founder', 'Greenhouse']\n",
            "Keywords for sentence 3 : ['Turbulence', 'the economy', 'the job market', 'the willingness', 'tools', 'tech', 'the fact', 'work tech', 'companies', 'hiring']\n",
            "Keywords for sentence 4 : ['The shift', 'Work Tech', 'a mandate', 'businesses', 'a nice-to-have afterthought', 'WorkTech Principal Analyst', 'Founder', 'George LaRocque']\n",
            "Keywords for sentence 5 : ['Over 1,000 HR and talent acquisition leaders', 'planning and budgeting authority', 'visibility', 'the U.S.', 'Europe', 'our Hiring WorkTech Planning and Budgeting Survey']\n",
            "Keywords for sentence 6 : [\"WorkTech's ongoing interviews\", 'research', 'the space', 'hundreds', 'leaders', 'employers', 'tech providers', 'additional context']\n",
            "Keywords for sentence 7 : [\"WorkTech's venture capital investment tracking\", 'database', 'reports', 'eight years', 'publication', 'our insights']\n",
            "Keywords for sentence 8 : ['We', 'research', 'expert third-party analysts', 'media', 'economists', 'additional trends', 'insights']\n"
          ]
        }
      ],
      "source": [
        "import spacy\n",
        "\n",
        "nlp = spacy.load(\"en_core_web_sm\")\n",
        "\n",
        "\n",
        "sentences = [\"People data and capabilities must be integrated into the flow of work with data from systems of work and collaboration. This is why companies are taking notice and action, making plans to invest in Work Tech.\",\n",
        "             \"Despite big tech layoffs dominating the headlines, a large number of companies are continuing to hire, said Daniel Chait, CEO and co-founder at Greenhouse.\",\n",
        "             \"Turbulence in the economy has impacted the job market less than anticipated, and the willingness to invest in tools and tech underscores the fact that hiring work tech is key to companies becoming more competitive in hiring.\",\n",
        "             \"The shift to Work Tech is a mandate for businesses, not a nice-to-have afterthought, said WorkTech Principal Analyst and Founder, George LaRocque.\",\n",
        "             \"Over 1,000 HR and talent acquisition leaders with planning and budgeting authority or visibility in the U.S. and Europe participated in our Hiring WorkTech Planning and Budgeting Survey.\",\n",
        "             \"WorkTech's ongoing interviews and research in the space with hundreds of leaders at employers and tech providers worldwide provided additional context.\",\n",
        "             \"WorkTech's venture capital investment tracking, database, and reports, now entering eight years of publication, were also leveraged to inform our insights.\",\n",
        "             \"We also reviewed research from expert third-party analysts, media, and economists for additional trends and insights.\"\n",
        "\n",
        "\n",
        "]\n",
        "\n",
        "def keywordextract(sentence):\n",
        "  doc = nlp(sentence)\n",
        "  keywords = [chunk.text for chunk in doc.noun_chunks]\n",
        "  return keywords\n",
        "\n",
        "\n",
        "for i, sentence in enumerate(sentences, start=1):\n",
        "  keywords = keywordextract(sentence)\n",
        "  print(f'Keywords for sentence {i} : {keywords}')\n"
      ]
    },
    {
      "cell_type": "markdown",
      "source": [],
      "metadata": {
        "id": "bxiS_Xw7nMEI"
      }
    },
    {
      "cell_type": "markdown",
      "source": [],
      "metadata": {
        "id": "SBK7dLLRm2Av"
      }
    },
    {
      "cell_type": "code",
      "source": [],
      "metadata": {
        "id": "GUIC5gw0kLrP"
      },
      "execution_count": null,
      "outputs": []
    }
  ]
}